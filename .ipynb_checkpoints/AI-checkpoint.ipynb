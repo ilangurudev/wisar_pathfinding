{
 "cells": [
  {
   "cell_type": "code",
   "execution_count": 96,
   "metadata": {
    "collapsed": true
   },
   "outputs": [],
   "source": [
    "\n",
    "\n",
    "\n",
    "\n",
    "\n",
    "class position:\n",
    "    def __init__(self, x, y):\n",
    "        self.x = x\n",
    "        self.y = y\n",
    "    def distance(self, other):\n",
    "        return(((self.x - other.x)**2 + (self.y - other.y)**2)**(1/2))\n",
    "    def __str__(self):\n",
    "        return(\"(\"+ str(self.x) + \",\" + str(self.y) + \")\")\n",
    "    \n",
    "class UAV:\n",
    "    def __init__(self):\n",
    "        self.covered_nodes = []\n",
    "    \n",
    "    def update_node(self, pos):\n",
    "        self.covered_nodes.append(pos)"
   ]
  },
  {
   "cell_type": "code",
   "execution_count": 105,
   "metadata": {
    "collapsed": true
   },
   "outputs": [],
   "source": [
    "x = position(1, 1)\n",
    "y = position(0, 0)\n",
    "x.distance(y)\n",
    "\n",
    "uav = UAV()"
   ]
  },
  {
   "cell_type": "code",
   "execution_count": 110,
   "metadata": {},
   "outputs": [
    {
     "name": "stdout",
     "output_type": "stream",
     "text": [
      "[<__main__.position object at 0x7f10541a3240>, <__main__.position object at 0x7f10542747b8>, <__main__.position object at 0x7f1054274668>, <__main__.position object at 0x7f105416dda0>]\n"
     ]
    },
    {
     "data": {
      "text/plain": [
       "{<__main__.position at 0x7f105416deb8>: 'hey'}"
      ]
     },
     "execution_count": 110,
     "metadata": {},
     "output_type": "execute_result"
    }
   ],
   "source": [
    "uav.update_node(position(0, 1))\n",
    "{position(0, 1): \"hey\",\n",
    "}"
   ]
  }
 ],
 "metadata": {
  "kernelspec": {
   "display_name": "Python 3",
   "language": "python",
   "name": "python3"
  },
  "language_info": {
   "codemirror_mode": {
    "name": "ipython",
    "version": 3
   },
   "file_extension": ".py",
   "mimetype": "text/x-python",
   "name": "python",
   "nbconvert_exporter": "python",
   "pygments_lexer": "ipython3",
   "version": "3.6.3"
  }
 },
 "nbformat": 4,
 "nbformat_minor": 2
}
