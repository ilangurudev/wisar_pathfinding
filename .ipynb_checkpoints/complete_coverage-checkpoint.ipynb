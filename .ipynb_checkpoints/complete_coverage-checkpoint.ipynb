{
 "cells": [
  {
   "cell_type": "code",
   "execution_count": 77,
   "metadata": {
    "collapsed": true
   },
   "outputs": [],
   "source": [
    "filename = 'heatmap_2.txt'\n",
    "start_pos = (0, 0)\n",
    "\n",
    "prob_dict = {}\n",
    "non_zero_nodes = {}\n",
    "\n",
    "file = open(filename,'r') \n",
    "\n",
    "def euclid_distance(a, b):\n",
    "    return(((a[0] - b[0])**2 + (a[1] - b[1])**2)**(1/2))\n",
    "    \n",
    "\n",
    "\n",
    "for l in file:\n",
    "    contents = l.split(\" \")\n",
    "    x = int(contents[0])\n",
    "    y = int(contents[1])\n",
    "    point = (x, y)\n",
    "    prob = float(contents[2])\n",
    "    prob_dict[point] = prob\n",
    "    \n",
    "    if(prob > 0):\n",
    "        if(x in non_zero_nodes.keys()):\n",
    "            x_ys = non_zero_nodes[x]\n",
    "            x_ys.append(y)\n",
    "            x_ys.sort()\n",
    "            non_zero_nodes[x] = x_ys\n",
    "        else:\n",
    "            non_zero_nodes[x] = [y]\n",
    "        \n",
    "        \n",
    "non_zero_cols = list(non_zero_nodes.keys())\n",
    "non_zero_cols.sort()"
   ]
  },
  {
   "cell_type": "code",
   "execution_count": 78,
   "metadata": {
    "collapsed": true
   },
   "outputs": [],
   "source": [
    "prev_pos = start_pos\n",
    "direction_up = True\n",
    "total_distance = 0.0\n",
    "total_probability = prob_dict[prev_pos]\n",
    "dist_snaps = []\n",
    "prob_snaps = []\n",
    "covered_nodes = [prev_pos]\n",
    "\n",
    "\n",
    "for x in non_zero_cols:\n",
    "    ys = non_zero_nodes[x]\n",
    "    if not direction_up:\n",
    "        ys.reverse()\n",
    "    for y in ys:\n",
    "        new_pos = (x, y)\n",
    "        total_distance += euclid_distance(prev_pos, new_pos)\n",
    "        total_probability += prob_dict[new_pos]\n",
    "        dist_snaps.append(total_distance)\n",
    "        prob_snaps.append(total_probability)\n",
    "        prev_pos = new_pos\n",
    "        covered_nodes.append(new_pos)\n",
    "    \n",
    "    direction_up = not direction_up\n",
    "        \n",
    "    \n",
    "# from collections import Counter\n",
    "# x = Counter(covered_nodes)\n",
    "# x.most_common()"
   ]
  },
  {
   "cell_type": "code",
   "execution_count": 79,
   "metadata": {},
   "outputs": [
    {
     "data": {
      "image/png": "[encoded data removed]",
      "text/plain": [
       "<matplotlib.figure.Figure at 0x7f0dd163bb00>"
      ]
     },
     "metadata": {},
     "output_type": "display_data"
    }
   ],
   "source": [
    "import matplotlib.pyplot as plt\n",
    "plt.plot(dist_snaps, prob_snaps, \"-\")\n",
    "plt.show()"
   ]
  },
  {
   "cell_type": "code",
   "execution_count": 80,
   "metadata": {},
   "outputs": [
    {
     "data": {
      "text/plain": [
       "27.730849247724095"
      ]
     },
     "execution_count": 80,
     "metadata": {},
     "output_type": "execute_result"
    }
   ],
   "source": [
    "#closest non-zero prob nodes:\n",
    "\n",
    "d = 0\n",
    "\n",
    "for x in non_zero_nodes.keys():\n",
    "    for y in non_zero_nodes[x]:\n",
    "        if d == 0:\n",
    "            d = euclid_distance((x, y), start_pos)  \n",
    "        else:\n",
    "            if euclid_distance((x, y), start_pos)  < d:\n",
    "#                 print(x,y)\n",
    "                d = euclid_distance((x, y), start_pos)\n",
    "                \n",
    "d"
   ]
  },
  {
   "cell_type": "code",
   "execution_count": 81,
   "metadata": {},
   "outputs": [
    {
     "data": {
      "image/png": "[encoded data removed]",
      "text/plain": [
       "<matplotlib.figure.Figure at 0x7f0dc852b710>"
      ]
     },
     "metadata": {},
     "output_type": "display_data"
    },
    {
     "name": "stdout",
     "output_type": "stream",
     "text": [
      "          B        PC    T  efficiencyLB\n",
      "0  0.037070  0.011285  100      0.304414\n",
      "1  0.087852  0.022570  200      0.256904\n",
      "2  0.138633  0.033854  300      0.244200\n",
      "3  0.290978  0.067709  600      0.232693\n",
      "4  0.443322  0.106303  900      0.239786\n"
     ]
    }
   ],
   "source": [
    "#Efficiency LB calculcation\n",
    "import numpy as np\n",
    "import pandas as pd\n",
    "\n",
    "all_probs = list(prob_dict.values())\n",
    "all_probs.sort()\n",
    "all_probs.reverse()\n",
    "\n",
    "ts = [100, 200, 300, 600, 900]\n",
    "# ts = range(100, 5000, 50)\n",
    "B = []\n",
    "PC = []\n",
    "efficiencyLB = []\n",
    "\n",
    "for t in ts:\n",
    "    N = int(t + 1 - d)\n",
    "    Bt = sum(all_probs[:N])\n",
    "    Pt = prob_snaps[t - 1]\n",
    "    B.append(Bt)\n",
    "    PC.append(Pt)\n",
    "    \n",
    "plt.plot(ts, B, 'g-')\n",
    "plt.plot(ts, PC, 'b-')\n",
    "plt.show()\n",
    "\n",
    "\n",
    "B = np.array(B)\n",
    "PC = np.array(PC)\n",
    "efficiencyLB = PC/B\n",
    "\n",
    "efficiency = pd.DataFrame({'T':ts, 'B': B, 'PC': PC, 'efficiencyLB': efficiencyLB})\n",
    "print(efficiency)"
   ]
  },
  {
   "cell_type": "code",
   "execution_count": null,
   "metadata": {},
   "outputs": [],
   "source": []
  },
  {
   "cell_type": "code",
   "execution_count": 76,
   "metadata": {},
   "outputs": [],
   "source": [
    "# print(efficiency)\n"
   ]
  }
 ],
 "metadata": {
  "kernelspec": {
   "display_name": "Python 3",
   "language": "python",
   "name": "python3"
  },
  "language_info": {
   "codemirror_mode": {
    "name": "ipython",
    "version": 3
   },
   "file_extension": ".py",
   "mimetype": "text/x-python",
   "name": "python",
   "nbconvert_exporter": "python",
   "pygments_lexer": "ipython3",
   "version": "3.6.3"
  }
 },
 "nbformat": 4,
 "nbformat_minor": 2
}
