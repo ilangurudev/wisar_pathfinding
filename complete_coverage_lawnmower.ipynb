{
 "cells": [
  {
   "cell_type": "code",
   "execution_count": 3,
   "metadata": {
    "collapsed": true
   },
   "outputs": [],
   "source": [
    "filename = 'heatmap_1.txt'\n",
    "start_pos = (0, 0)\n",
    "fn = filename.split(\".\")[0]\n",
    "prob_dict = {}\n",
    "non_zero_nodes = {}\n",
    "\n",
    "file = open(filename,'r') \n",
    "\n",
    "def euclid_distance(a, b):\n",
    "    return(((a[0] - b[0])**2 + (a[1] - b[1])**2)**(1/2))\n",
    "    \n",
    "\n",
    "\n",
    "for l in file:\n",
    "    contents = l.split(\" \")\n",
    "    x = int(contents[0])\n",
    "    y = int(contents[1])\n",
    "    point = (x, y)\n",
    "    prob = float(contents[2])\n",
    "    prob_dict[point] = prob\n",
    "    \n",
    "    if(prob > 0):\n",
    "        if(x in non_zero_nodes.keys()):\n",
    "            x_ys = non_zero_nodes[x]\n",
    "            x_ys.append(y)\n",
    "            x_ys.sort()\n",
    "            non_zero_nodes[x] = x_ys\n",
    "        else:\n",
    "            non_zero_nodes[x] = [y]\n",
    "        \n",
    "        \n",
    "non_zero_cols = list(non_zero_nodes.keys())\n",
    "non_zero_cols.sort()"
   ]
  },
  {
   "cell_type": "code",
   "execution_count": 4,
   "metadata": {
    "collapsed": true
   },
   "outputs": [],
   "source": [
    "prev_pos = start_pos\n",
    "direction_up = True\n",
    "total_distance = 0.0\n",
    "total_probability = prob_dict[prev_pos]\n",
    "dist_snaps = []\n",
    "prob_snaps = []\n",
    "covered_nodes = [prev_pos]\n",
    "\n",
    "# with open(,'wb') as file:\n",
    "f = open('results/' + fn + '_lawnmower_path.csv','w')\n",
    "f.write(\"x,y\")\n",
    "f.write(\"\\n\")\n",
    "f.write(\"0,0\")\n",
    "f.write(\"\\n\")\n",
    "\n",
    "for x in non_zero_cols:\n",
    "    ys = non_zero_nodes[x]\n",
    "    if not direction_up:\n",
    "        ys.reverse()\n",
    "    for y in ys:\n",
    "        new_pos = (x, y)\n",
    "        total_distance += euclid_distance(prev_pos, new_pos)\n",
    "        total_probability += prob_dict[new_pos]\n",
    "        dist_snaps.append(total_distance)\n",
    "        prob_snaps.append(total_probability)\n",
    "        prev_pos = new_pos\n",
    "        covered_nodes.append(new_pos)\n",
    "        st = str(x) + \",\" + str(y)\n",
    "        f.write(st)\n",
    "        f.write(\"\\n\")\n",
    "\n",
    "\n",
    "    direction_up = not direction_up\n",
    "\n",
    "f.close()"
   ]
  },
  {
   "cell_type": "code",
   "execution_count": 5,
   "metadata": {
    "collapsed": true
   },
   "outputs": [],
   "source": [
    "import matplotlib.pyplot as plt\n",
    "fig1 = plt.figure()\n",
    "ax1 = fig1.add_subplot(111)\n",
    "ax1.plot(dist_snaps, prob_snaps, \"-\")\n",
    "plt.title('Time vs Cumulative Probability')\n",
    "plt.xlabel('Time')\n",
    "plt.ylabel('Cumulative Probability')\n",
    "# plt.show()\n",
    "plt.savefig('results/' + fn + \"_lawnmower_timeVprob.png\", dpi = 200)"
   ]
  },
  {
   "cell_type": "code",
   "execution_count": 7,
   "metadata": {
    "collapsed": true
   },
   "outputs": [],
   "source": [
    "#closest non-zero prob nodes:\n",
    "\n",
    "d = 0\n",
    "\n",
    "for x in non_zero_nodes.keys():\n",
    "    for y in non_zero_nodes[x]:\n",
    "        if d == 0:\n",
    "            d = euclid_distance((x, y), start_pos)  \n",
    "        else:\n",
    "            if euclid_distance((x, y), start_pos)  < d:\n",
    "#                 print(x,y)\n",
    "                d = euclid_distance((x, y), start_pos)\n",
    "                \n",
    "# d"
   ]
  },
  {
   "cell_type": "code",
   "execution_count": 10,
   "metadata": {},
   "outputs": [
    {
     "data": {
      "image/png": "[encoded data removed]",
      "text/plain": [
       "<matplotlib.figure.Figure at 0x7f0ea230c7f0>"
      ]
     },
     "metadata": {},
     "output_type": "display_data"
    },
    {
     "data": {
      "image/png": "[encoded data removed]",
      "text/plain": [
       "<matplotlib.figure.Figure at 0x7f0e9968d518>"
      ]
     },
     "metadata": {},
     "output_type": "display_data"
    }
   ],
   "source": [
    "#Efficiency LB calculcation\n",
    "import numpy as np\n",
    "import pandas as pd\n",
    "\n",
    "all_probs = list(prob_dict.values())\n",
    "all_probs.sort()\n",
    "all_probs.reverse()\n",
    "\n",
    "dist_snaps_np = np.array(dist_snaps)\n",
    "prob_snaps_np = np.array(prob_snaps)\n",
    "\n",
    "ts = [100, 200, 300, 600, 900]\n",
    "# ts = range(100, 5000, 50)\n",
    "B = []\n",
    "PC = []\n",
    "efficiencyLB = []\n",
    "\n",
    "for t in ts:\n",
    "    N = int(t + 1 - d)\n",
    "    Bt = sum(all_probs[:N])\n",
    "    \n",
    "    a = dist_snaps_np - t\n",
    "    Pt = prob_snaps_np[abs(a) == min(abs(a))]\n",
    "    Pt = Pt[0]\n",
    "    Pt = float(Pt)\n",
    "\n",
    "    B.append(Bt)\n",
    "    PC.append(Pt)\n",
    "\n",
    "fig2 = plt.figure()\n",
    "ax2 = fig2.add_subplot(111)\n",
    "ax2.plot(ts, B, 'g-')\n",
    "ax2.plot(ts, PC, 'b-')\n",
    "plt.savefig('results/' + fn + \"_lawnmower_BPt_coverageVtime.png\", dpi = 200)\n",
    "\n",
    "\n",
    "B = np.array(B)\n",
    "PC = np.array(PC)\n",
    "efficiencyLB = PC/B\n",
    "\n",
    "fig3 = plt.figure()\n",
    "ax3 = fig3.add_subplot(111)\n",
    "ax3.plot(ts, efficiencyLB, 'g-')\n",
    "plt.savefig('results/' + fn + \"_lawnmower_efficiencyLB.png\", dpi = 200)\n",
    "\n",
    "efficiency = pd.DataFrame({'T':ts, 'B': B, 'PC': PC, 'efficiencyLB': efficiencyLB})\n",
    "efficiency.to_csv('results/' + fn + '_lawnmower_efficiency_LB.csv')"
   ]
  },
  {
   "cell_type": "code",
   "execution_count": 11,
   "metadata": {},
   "outputs": [
    {
     "data": {
      "text/plain": [
       "5203.032677414069"
      ]
     },
     "execution_count": 11,
     "metadata": {},
     "output_type": "execute_result"
    }
   ],
   "source": [
    "total_distance"
   ]
  },
  {
   "cell_type": "code",
   "execution_count": null,
   "metadata": {
    "collapsed": true
   },
   "outputs": [],
   "source": []
  }
 ],
 "metadata": {
  "kernelspec": {
   "display_name": "Python 3",
   "language": "python",
   "name": "python3"
  },
  "language_info": {
   "codemirror_mode": {
    "name": "ipython",
    "version": 3
   },
   "file_extension": ".py",
   "mimetype": "text/x-python",
   "name": "python",
   "nbconvert_exporter": "python",
   "pygments_lexer": "ipython3",
   "version": "3.6.3"
  }
 },
 "nbformat": 4,
 "nbformat_minor": 2
}
